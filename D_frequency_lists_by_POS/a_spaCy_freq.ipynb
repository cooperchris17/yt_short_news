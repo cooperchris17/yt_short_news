{
 "cells": [
  {
   "cell_type": "markdown",
   "metadata": {},
   "source": [
    "#### Import the necessary libraries and load the spacy model"
   ]
  },
  {
   "cell_type": "code",
   "execution_count": 38,
   "metadata": {},
   "outputs": [],
   "source": [
    "import spacy\n",
    "import pandas as pd\n",
    "from nltk.probability import FreqDist\n",
    "from IPython.display import Image\n",
    "\n",
    "nlp = spacy.load(\"en_core_web_sm\")"
   ]
  },
  {
   "cell_type": "markdown",
   "metadata": {},
   "source": [
    "#### Read in the corpus df\n",
    "##### channel variable is for the name of the output file (I named it 'world' when gettting frequencies for the whole corpus)\n",
    "##### the 'part_of_speech' variable is also for the output file name\n",
    "##### the channel_in_df variable is to get the frequencies only for one subcorpus (not needed for whole corpus)"
   ]
  },
  {
   "cell_type": "code",
   "execution_count": 57,
   "metadata": {},
   "outputs": [
    {
     "data": {
      "text/html": [
       "<div>\n",
       "<style scoped>\n",
       "    .dataframe tbody tr th:only-of-type {\n",
       "        vertical-align: middle;\n",
       "    }\n",
       "\n",
       "    .dataframe tbody tr th {\n",
       "        vertical-align: top;\n",
       "    }\n",
       "\n",
       "    .dataframe thead th {\n",
       "        text-align: right;\n",
       "    }\n",
       "</style>\n",
       "<table border=\"1\" class=\"dataframe\">\n",
       "  <thead>\n",
       "    <tr style=\"text-align: right;\">\n",
       "      <th></th>\n",
       "      <th>channel</th>\n",
       "      <th>month</th>\n",
       "      <th>video_id</th>\n",
       "      <th>text</th>\n",
       "    </tr>\n",
       "  </thead>\n",
       "  <tbody>\n",
       "    <tr>\n",
       "      <th>0</th>\n",
       "      <td>ABC News (US)</td>\n",
       "      <td>12</td>\n",
       "      <td>--sFZN1xtq8</td>\n",
       "      <td>the columbia university graduate student fatal...</td>\n",
       "    </tr>\n",
       "    <tr>\n",
       "      <th>1</th>\n",
       "      <td>ABC News (US)</td>\n",
       "      <td>2</td>\n",
       "      <td>-0qdRgEgJ7I</td>\n",
       "      <td>thousands of vaccinations put on hold because ...</td>\n",
       "    </tr>\n",
       "    <tr>\n",
       "      <th>2</th>\n",
       "      <td>ABC News (US)</td>\n",
       "      <td>6</td>\n",
       "      <td>-I2WzhJd8sA</td>\n",
       "      <td>now to the coronavirus in the u.s and tonight ...</td>\n",
       "    </tr>\n",
       "    <tr>\n",
       "      <th>3</th>\n",
       "      <td>ABC News (US)</td>\n",
       "      <td>4</td>\n",
       "      <td>-KXJ5xtNWYM</td>\n",
       "      <td>president biden is expected to announce an end...</td>\n",
       "    </tr>\n",
       "    <tr>\n",
       "      <th>4</th>\n",
       "      <td>ABC News (US)</td>\n",
       "      <td>2</td>\n",
       "      <td>-SY4LK_Isv8</td>\n",
       "      <td>finally tonight hidden no more tonight history...</td>\n",
       "    </tr>\n",
       "    <tr>\n",
       "      <th>...</th>\n",
       "      <td>...</td>\n",
       "      <td>...</td>\n",
       "      <td>...</td>\n",
       "      <td>...</td>\n",
       "    </tr>\n",
       "    <tr>\n",
       "      <th>8281</th>\n",
       "      <td>WION (IN)</td>\n",
       "      <td>2</td>\n",
       "      <td>zGCtBh1Ts0A</td>\n",
       "      <td>u.s authorities arrested the wife of jailed me...</td>\n",
       "    </tr>\n",
       "    <tr>\n",
       "      <th>8282</th>\n",
       "      <td>WION (IN)</td>\n",
       "      <td>9</td>\n",
       "      <td>zIIuekiAd9I</td>\n",
       "      <td>and countries across the globe have been react...</td>\n",
       "    </tr>\n",
       "    <tr>\n",
       "      <th>8283</th>\n",
       "      <td>WION (IN)</td>\n",
       "      <td>11</td>\n",
       "      <td>zMuMcDNfu7M</td>\n",
       "      <td>archaeologists have hailed a latest discovery ...</td>\n",
       "    </tr>\n",
       "    <tr>\n",
       "      <th>8284</th>\n",
       "      <td>WION (IN)</td>\n",
       "      <td>6</td>\n",
       "      <td>zsN_XMQTRmE</td>\n",
       "      <td>and the u.s troops withdrawal from afghanistan...</td>\n",
       "    </tr>\n",
       "    <tr>\n",
       "      <th>8285</th>\n",
       "      <td>WION (IN)</td>\n",
       "      <td>5</td>\n",
       "      <td>zvSxJ0bkPmI</td>\n",
       "      <td>and in a bid to accelerate the vaccination rol...</td>\n",
       "    </tr>\n",
       "  </tbody>\n",
       "</table>\n",
       "<p>8286 rows × 4 columns</p>\n",
       "</div>"
      ],
      "text/plain": [
       "            channel  month     video_id  \\\n",
       "0     ABC News (US)     12  --sFZN1xtq8   \n",
       "1     ABC News (US)      2  -0qdRgEgJ7I   \n",
       "2     ABC News (US)      6  -I2WzhJd8sA   \n",
       "3     ABC News (US)      4  -KXJ5xtNWYM   \n",
       "4     ABC News (US)      2  -SY4LK_Isv8   \n",
       "...             ...    ...          ...   \n",
       "8281      WION (IN)      2  zGCtBh1Ts0A   \n",
       "8282      WION (IN)      9  zIIuekiAd9I   \n",
       "8283      WION (IN)     11  zMuMcDNfu7M   \n",
       "8284      WION (IN)      6  zsN_XMQTRmE   \n",
       "8285      WION (IN)      5  zvSxJ0bkPmI   \n",
       "\n",
       "                                                   text  \n",
       "0     the columbia university graduate student fatal...  \n",
       "1     thousands of vaccinations put on hold because ...  \n",
       "2     now to the coronavirus in the u.s and tonight ...  \n",
       "3     president biden is expected to announce an end...  \n",
       "4     finally tonight hidden no more tonight history...  \n",
       "...                                                 ...  \n",
       "8281  u.s authorities arrested the wife of jailed me...  \n",
       "8282  and countries across the globe have been react...  \n",
       "8283  archaeologists have hailed a latest discovery ...  \n",
       "8284  and the u.s troops withdrawal from afghanistan...  \n",
       "8285  and in a bid to accelerate the vaccination rol...  \n",
       "\n",
       "[8286 rows x 4 columns]"
      ]
     },
     "execution_count": 57,
     "metadata": {},
     "output_type": "execute_result"
    }
   ],
   "source": [
    "channel = 'World'\n",
    "part_of_speech = 'noun'\n",
    "# channel_in_df = 'WION (IN)'\n",
    "\n",
    "df = pd.read_csv('world_news_720_df.csv')\n",
    "# df = df[df['channel'] == channel_in_df] \n",
    "df"
   ]
  },
  {
   "cell_type": "markdown",
   "metadata": {},
   "source": [
    "#### Specify the column in the dataframe to read the texts from"
   ]
  },
  {
   "cell_type": "code",
   "execution_count": 58,
   "metadata": {},
   "outputs": [
    {
     "data": {
      "text/plain": [
       "0       the columbia university graduate student fatal...\n",
       "1       thousands of vaccinations put on hold because ...\n",
       "2       now to the coronavirus in the u.s and tonight ...\n",
       "3       president biden is expected to announce an end...\n",
       "4       finally tonight hidden no more tonight history...\n",
       "                              ...                        \n",
       "8281    u.s authorities arrested the wife of jailed me...\n",
       "8282    and countries across the globe have been react...\n",
       "8283    archaeologists have hailed a latest discovery ...\n",
       "8284    and the u.s troops withdrawal from afghanistan...\n",
       "8285    and in a bid to accelerate the vaccination rol...\n",
       "Name: text, Length: 8286, dtype: object"
      ]
     },
     "execution_count": 58,
     "metadata": {},
     "output_type": "execute_result"
    }
   ],
   "source": [
    "texts = df['text']\n",
    "texts"
   ]
  },
  {
   "cell_type": "markdown",
   "metadata": {},
   "source": [
    "#### Calculate the frequency of the specified part of speech (in this case adjectives)\n",
    "##### create an empty list (adj = [])\n",
    "##### if a token is an adjective, append the adjectives list\n",
    "#### comment out all lists and if statements that are not relevant to target part of speech"
   ]
  },
  {
   "cell_type": "code",
   "execution_count": 59,
   "metadata": {},
   "outputs": [],
   "source": [
    "# adj = []\n",
    "# propn = []\n",
    "# verb = []\n",
    "noun = []\n",
    "\n",
    "docs = nlp.pipe(texts)\n",
    "\n",
    "# this runs the spacy pipeline on all of the documents in batches\n",
    "for doc in docs:\n",
    "    for token in doc:\n",
    "#         if token.pos_ == \"ADJ\" and not token.is_punct:\n",
    "#             adj.append(token.lemma_)\n",
    "        if token.pos_ == \"NOUN\":\n",
    "            noun.append(token.lemma_)\n",
    "#         if token.pos_ == \"PROPN\":\n",
    "#             propn.append(token.lemma_)\n",
    "#         if token.pos_ == \"VERB\":\n",
    "#             verb.append(token.lemma_)\n"
   ]
  },
  {
   "cell_type": "markdown",
   "metadata": {},
   "source": [
    "#### Calculate the total number of tokens in the corpus (after removing tokens that are punctuation)\n",
    "##### This is necessary to calculate the normalised frequency\n",
    "##### It didn't work unless I ran nlp.pipe on the texts again (instead of just calling 'docs')"
   ]
  },
  {
   "cell_type": "code",
   "execution_count": 34,
   "metadata": {},
   "outputs": [
    {
     "data": {
      "text/plain": [
       "2853278"
      ]
     },
     "execution_count": 34,
     "metadata": {},
     "output_type": "execute_result"
    }
   ],
   "source": [
    "doc_lengths = []\n",
    "\n",
    "docs = nlp.pipe(texts)\n",
    "\n",
    "for doc in docs:\n",
    "    doc_tokens = [token.text for token in doc if not token.is_punct]\n",
    "    doc_lengths.append(len(doc_tokens))\n",
    "    total_tokens = sum(doc_lengths)\n",
    "\n",
    "total_tokens"
   ]
  },
  {
   "cell_type": "markdown",
   "metadata": {},
   "source": [
    "#### After the tokens have been calculated once, the total number of tokens can be assigned to a variable \n",
    "##### to save processing time (commented out now)"
   ]
  },
  {
   "cell_type": "code",
   "execution_count": 60,
   "metadata": {},
   "outputs": [],
   "source": [
    "# total_tokens = 2853278"
   ]
  },
  {
   "cell_type": "markdown",
   "metadata": {},
   "source": [
    "#### Produce frequency distribution using nltk FreqDist\n",
    "#### and calculate the normalised frequency (per million tokens)\n",
    "#### produce a dataframe containing this information\n",
    "##### this dataframe will be appended to the document frequency dataframe later\n",
    "\n",
    "#### Choose the part of speech that matches your objective (from the commented out lines at the top of the cell)"
   ]
  },
  {
   "cell_type": "code",
   "execution_count": 61,
   "metadata": {},
   "outputs": [
    {
     "data": {
      "text/html": [
       "<div>\n",
       "<style scoped>\n",
       "    .dataframe tbody tr th:only-of-type {\n",
       "        vertical-align: middle;\n",
       "    }\n",
       "\n",
       "    .dataframe tbody tr th {\n",
       "        vertical-align: top;\n",
       "    }\n",
       "\n",
       "    .dataframe thead th {\n",
       "        text-align: right;\n",
       "    }\n",
       "</style>\n",
       "<table border=\"1\" class=\"dataframe\">\n",
       "  <thead>\n",
       "    <tr style=\"text-align: right;\">\n",
       "      <th></th>\n",
       "      <th>word</th>\n",
       "      <th>frequency</th>\n",
       "      <th>per_million</th>\n",
       "    </tr>\n",
       "  </thead>\n",
       "  <tbody>\n",
       "    <tr>\n",
       "      <th>0</th>\n",
       "      <td>people</td>\n",
       "      <td>10724</td>\n",
       "      <td>3758.484101</td>\n",
       "    </tr>\n",
       "    <tr>\n",
       "      <th>1</th>\n",
       "      <td>year</td>\n",
       "      <td>8676</td>\n",
       "      <td>3040.713173</td>\n",
       "    </tr>\n",
       "    <tr>\n",
       "      <th>2</th>\n",
       "      <td>country</td>\n",
       "      <td>7620</td>\n",
       "      <td>2670.612538</td>\n",
       "    </tr>\n",
       "    <tr>\n",
       "      <th>3</th>\n",
       "      <td>time</td>\n",
       "      <td>5478</td>\n",
       "      <td>1919.897045</td>\n",
       "    </tr>\n",
       "    <tr>\n",
       "      <th>4</th>\n",
       "      <td>government</td>\n",
       "      <td>5453</td>\n",
       "      <td>1911.135193</td>\n",
       "    </tr>\n",
       "    <tr>\n",
       "      <th>...</th>\n",
       "      <td>...</td>\n",
       "      <td>...</td>\n",
       "      <td>...</td>\n",
       "    </tr>\n",
       "    <tr>\n",
       "      <th>20245</th>\n",
       "      <td>mummification</td>\n",
       "      <td>1</td>\n",
       "      <td>0.350474</td>\n",
       "    </tr>\n",
       "    <tr>\n",
       "      <th>20246</th>\n",
       "      <td>radiocarbon</td>\n",
       "      <td>1</td>\n",
       "      <td>0.350474</td>\n",
       "    </tr>\n",
       "    <tr>\n",
       "      <th>20247</th>\n",
       "      <td>chakla</td>\n",
       "      <td>1</td>\n",
       "      <td>0.350474</td>\n",
       "    </tr>\n",
       "    <tr>\n",
       "      <th>20248</th>\n",
       "      <td>gourd</td>\n",
       "      <td>1</td>\n",
       "      <td>0.350474</td>\n",
       "    </tr>\n",
       "    <tr>\n",
       "      <th>20249</th>\n",
       "      <td>indemnification</td>\n",
       "      <td>1</td>\n",
       "      <td>0.350474</td>\n",
       "    </tr>\n",
       "  </tbody>\n",
       "</table>\n",
       "<p>20250 rows × 3 columns</p>\n",
       "</div>"
      ],
      "text/plain": [
       "                  word  frequency  per_million\n",
       "0               people      10724  3758.484101\n",
       "1                 year       8676  3040.713173\n",
       "2              country       7620  2670.612538\n",
       "3                 time       5478  1919.897045\n",
       "4           government       5453  1911.135193\n",
       "...                ...        ...          ...\n",
       "20245    mummification          1     0.350474\n",
       "20246      radiocarbon          1     0.350474\n",
       "20247           chakla          1     0.350474\n",
       "20248            gourd          1     0.350474\n",
       "20249  indemnification          1     0.350474\n",
       "\n",
       "[20250 rows x 3 columns]"
      ]
     },
     "execution_count": 61,
     "metadata": {},
     "output_type": "execute_result"
    }
   ],
   "source": [
    "# fd = FreqDist(adj)\n",
    "# fd = FreqDist(propn)\n",
    "# fd = FreqDist(verb)\n",
    "fd = FreqDist(noun)\n",
    "\n",
    "\n",
    "freq_df = pd.DataFrame(fd.most_common(), columns=['word', 'frequency'])\n",
    "freq_df['per_million'] = freq_df['frequency'] / total_tokens * 1000000\n",
    "freq_df"
   ]
  },
  {
   "cell_type": "markdown",
   "metadata": {},
   "source": [
    "#### Calculate the document frequency of each word (how many docs it appears in)\n",
    "##### I had to run the texts through the spaCy pipeline again to do this\n",
    "#### First, list the file number with each occurence of the token\n",
    "### Remember to assign the Universal POS tag to the pos variable"
   ]
  },
  {
   "cell_type": "code",
   "execution_count": 62,
   "metadata": {},
   "outputs": [
    {
     "data": {
      "text/html": [
       "<div>\n",
       "<style scoped>\n",
       "    .dataframe tbody tr th:only-of-type {\n",
       "        vertical-align: middle;\n",
       "    }\n",
       "\n",
       "    .dataframe tbody tr th {\n",
       "        vertical-align: top;\n",
       "    }\n",
       "\n",
       "    .dataframe thead th {\n",
       "        text-align: right;\n",
       "    }\n",
       "</style>\n",
       "<table border=\"1\" class=\"dataframe\">\n",
       "  <thead>\n",
       "    <tr style=\"text-align: right;\">\n",
       "      <th></th>\n",
       "      <th>file</th>\n",
       "      <th>doc_token</th>\n",
       "    </tr>\n",
       "  </thead>\n",
       "  <tbody>\n",
       "    <tr>\n",
       "      <th>0</th>\n",
       "      <td>0</td>\n",
       "      <td>graduate</td>\n",
       "    </tr>\n",
       "    <tr>\n",
       "      <th>1</th>\n",
       "      <td>0</td>\n",
       "      <td>student</td>\n",
       "    </tr>\n",
       "    <tr>\n",
       "      <th>2</th>\n",
       "      <td>0</td>\n",
       "      <td>campus</td>\n",
       "    </tr>\n",
       "    <tr>\n",
       "      <th>3</th>\n",
       "      <td>0</td>\n",
       "      <td>police</td>\n",
       "    </tr>\n",
       "    <tr>\n",
       "      <th>4</th>\n",
       "      <td>0</td>\n",
       "      <td>suspect</td>\n",
       "    </tr>\n",
       "    <tr>\n",
       "      <th>...</th>\n",
       "      <td>...</td>\n",
       "      <td>...</td>\n",
       "    </tr>\n",
       "    <tr>\n",
       "      <th>613178</th>\n",
       "      <td>8285</td>\n",
       "      <td>hour</td>\n",
       "    </tr>\n",
       "    <tr>\n",
       "      <th>613179</th>\n",
       "      <td>8285</td>\n",
       "      <td>country</td>\n",
       "    </tr>\n",
       "    <tr>\n",
       "      <th>613180</th>\n",
       "      <td>8285</td>\n",
       "      <td>app</td>\n",
       "    </tr>\n",
       "    <tr>\n",
       "      <th>613181</th>\n",
       "      <td>8285</td>\n",
       "      <td>news</td>\n",
       "    </tr>\n",
       "    <tr>\n",
       "      <th>613182</th>\n",
       "      <td>8285</td>\n",
       "      <td>move</td>\n",
       "    </tr>\n",
       "  </tbody>\n",
       "</table>\n",
       "<p>613183 rows × 2 columns</p>\n",
       "</div>"
      ],
      "text/plain": [
       "        file doc_token\n",
       "0          0  graduate\n",
       "1          0   student\n",
       "2          0    campus\n",
       "3          0    police\n",
       "4          0   suspect\n",
       "...      ...       ...\n",
       "613178  8285      hour\n",
       "613179  8285   country\n",
       "613180  8285       app\n",
       "613181  8285      news\n",
       "613182  8285      move\n",
       "\n",
       "[613183 rows x 2 columns]"
      ]
     },
     "execution_count": 62,
     "metadata": {},
     "output_type": "execute_result"
    }
   ],
   "source": [
    "pos = \"NOUN\"\n",
    "\n",
    "file = []\n",
    "doc_token = []\n",
    "\n",
    "for i, doc in enumerate(nlp.pipe(texts)):\n",
    "    for token in doc:\n",
    "        if token.pos_ == pos and not token.is_punct:\n",
    "            file.append(i)\n",
    "            doc_token.append(token.lemma_)\n",
    "\n",
    "data = {'file': file, 'doc_token': doc_token}\n",
    "\n",
    "doc_df = pd.DataFrame(data)\n",
    "\n",
    "doc_df"
   ]
  },
  {
   "cell_type": "markdown",
   "metadata": {},
   "source": [
    "#### Group the dataframe to leave 1 token for each file \n",
    "##### (i.e. delete any duplicate tokens in each file - like leaving a 'document type', and not 'document tokens')\n",
    "##### The image produced by the next cell shows an example of this with adjectives in one document"
   ]
  },
  {
   "cell_type": "code",
   "execution_count": 40,
   "metadata": {},
   "outputs": [
    {
     "data": {
      "image/png": "[encoded data removed]",
      "text/plain": [
       "<IPython.core.display.Image object>"
      ]
     },
     "execution_count": 40,
     "metadata": {},
     "output_type": "execute_result"
    }
   ],
   "source": [
    "Image('Doc_Token_to_Doc_Type.png')"
   ]
  },
  {
   "cell_type": "code",
   "execution_count": 64,
   "metadata": {},
   "outputs": [
    {
     "data": {
      "text/html": [
       "<div>\n",
       "<style scoped>\n",
       "    .dataframe tbody tr th:only-of-type {\n",
       "        vertical-align: middle;\n",
       "    }\n",
       "\n",
       "    .dataframe tbody tr th {\n",
       "        vertical-align: top;\n",
       "    }\n",
       "\n",
       "    .dataframe thead th {\n",
       "        text-align: right;\n",
       "    }\n",
       "</style>\n",
       "<table border=\"1\" class=\"dataframe\">\n",
       "  <thead>\n",
       "    <tr style=\"text-align: right;\">\n",
       "      <th></th>\n",
       "      <th></th>\n",
       "    </tr>\n",
       "    <tr>\n",
       "      <th>file</th>\n",
       "      <th>doc_token</th>\n",
       "    </tr>\n",
       "  </thead>\n",
       "  <tbody>\n",
       "    <tr>\n",
       "      <th rowspan=\"5\" valign=\"top\">0</th>\n",
       "      <th>athlete</th>\n",
       "    </tr>\n",
       "    <tr>\n",
       "      <th>authority</th>\n",
       "    </tr>\n",
       "    <tr>\n",
       "      <th>barnard</th>\n",
       "    </tr>\n",
       "    <tr>\n",
       "      <th>block</th>\n",
       "    </tr>\n",
       "    <tr>\n",
       "      <th>camp</th>\n",
       "    </tr>\n",
       "    <tr>\n",
       "      <th>...</th>\n",
       "      <th>...</th>\n",
       "    </tr>\n",
       "    <tr>\n",
       "      <th rowspan=\"5\" valign=\"top\">8285</th>\n",
       "      <th>university</th>\n",
       "    </tr>\n",
       "    <tr>\n",
       "      <th>vaccination</th>\n",
       "    </tr>\n",
       "    <tr>\n",
       "      <th>vaccine</th>\n",
       "    </tr>\n",
       "    <tr>\n",
       "      <th>world</th>\n",
       "    </tr>\n",
       "    <tr>\n",
       "      <th>year</th>\n",
       "    </tr>\n",
       "  </tbody>\n",
       "</table>\n",
       "<p>425536 rows × 0 columns</p>\n",
       "</div>"
      ],
      "text/plain": [
       "Empty DataFrame\n",
       "Columns: []\n",
       "Index: [(0, athlete), (0, authority), (0, barnard), (0, block), (0, camp), (0, campus), (0, channel), (0, college), (0, community), (0, condolence), (0, coverage), (0, custody), (0, davide), (0, death), (0, engineering), (0, evening), (0, event), (0, family), (0, freshman), (0, friend), (0, gang), (0, graduate), (0, guy), (0, headline), (0, highlight), (0, history), (0, hospital), (0, injustice), (0, kitchen), (0, knife), (0, major), (0, man), (0, member), (0, minute), (0, murder), (0, news), (0, officer), (0, pain), (0, park), (0, parole), (0, person), (0, place), (0, police), (0, practice), (0, right), (0, shock), (0, soccer), (0, spate), (0, spree), (0, student), (0, suspect), (0, taking), (0, tauru), (0, tessa), (0, thank), (0, tonight), (0, torso), (0, tourist), (0, tragedy), (0, university), (0, video), (0, violence), (0, wave), (0, world), (0, year), (1, abandoning), (1, american), (1, biden), (1, bill), (1, bipartisanship), (1, board), (1, business), (1, but), (1, channel), (1, check), (1, correspondent), (1, cost), (1, cover), (1, coverage), (1, covid), (1, dialing), (1, difference), (1, dollar), (1, evening), (1, event), (1, ground), (1, help), (1, highlight), (1, hold), (1, hope), (1, idea), (1, inability), (1, income), (1, issue), (1, mary), (1, meeting), (1, message), (1, million), (1, money), (1, news), ...]\n",
       "\n",
       "[425536 rows x 0 columns]"
      ]
     },
     "execution_count": 64,
     "metadata": {},
     "output_type": "execute_result"
    }
   ],
   "source": [
    "grouped = doc_df.groupby(['file', 'doc_token']).count()\n",
    "grouped"
   ]
  },
  {
   "cell_type": "markdown",
   "metadata": {},
   "source": [
    "#### remove the file number column to leave only a list of tokens (the 'document types' identified before)"
   ]
  },
  {
   "cell_type": "code",
   "execution_count": 65,
   "metadata": {},
   "outputs": [
    {
     "data": {
      "text/plain": [
       "0             athlete\n",
       "1           authority\n",
       "2             barnard\n",
       "3               block\n",
       "4                camp\n",
       "             ...     \n",
       "425531     university\n",
       "425532    vaccination\n",
       "425533        vaccine\n",
       "425534          world\n",
       "425535           year\n",
       "Name: doc_token, Length: 425536, dtype: object"
      ]
     },
     "execution_count": 65,
     "metadata": {},
     "output_type": "execute_result"
    }
   ],
   "source": [
    "types = grouped.reset_index()['doc_token']\n",
    "types"
   ]
  },
  {
   "cell_type": "markdown",
   "metadata": {},
   "source": [
    "#### Frequency distibution of the POS words (e.g. nouns)"
   ]
  },
  {
   "cell_type": "code",
   "execution_count": 66,
   "metadata": {},
   "outputs": [
    {
     "data": {
      "text/plain": [
       "FreqDist({'people': 4294, 'year': 4227, 'country': 3658, 'time': 3515, 'day': 2988, 'government': 2644, 'news': 2448, 'week': 2138, 'world': 2042, 'month': 1948, ...})"
      ]
     },
     "execution_count": 66,
     "metadata": {},
     "output_type": "execute_result"
    }
   ],
   "source": [
    "doc_freq = FreqDist(types)\n",
    "doc_freq"
   ]
  },
  {
   "cell_type": "markdown",
   "metadata": {},
   "source": [
    "#### Calculate the percentage of docs each word appears in"
   ]
  },
  {
   "cell_type": "code",
   "execution_count": 67,
   "metadata": {},
   "outputs": [
    {
     "data": {
      "text/html": [
       "<div>\n",
       "<style scoped>\n",
       "    .dataframe tbody tr th:only-of-type {\n",
       "        vertical-align: middle;\n",
       "    }\n",
       "\n",
       "    .dataframe tbody tr th {\n",
       "        vertical-align: top;\n",
       "    }\n",
       "\n",
       "    .dataframe thead th {\n",
       "        text-align: right;\n",
       "    }\n",
       "</style>\n",
       "<table border=\"1\" class=\"dataframe\">\n",
       "  <thead>\n",
       "    <tr style=\"text-align: right;\">\n",
       "      <th></th>\n",
       "      <th>word</th>\n",
       "      <th>doc_freq</th>\n",
       "      <th>doc_percentage</th>\n",
       "    </tr>\n",
       "  </thead>\n",
       "  <tbody>\n",
       "    <tr>\n",
       "      <th>0</th>\n",
       "      <td>people</td>\n",
       "      <td>4294</td>\n",
       "      <td>51.822351</td>\n",
       "    </tr>\n",
       "    <tr>\n",
       "      <th>1</th>\n",
       "      <td>year</td>\n",
       "      <td>4227</td>\n",
       "      <td>51.013758</td>\n",
       "    </tr>\n",
       "    <tr>\n",
       "      <th>2</th>\n",
       "      <td>country</td>\n",
       "      <td>3658</td>\n",
       "      <td>44.146754</td>\n",
       "    </tr>\n",
       "    <tr>\n",
       "      <th>3</th>\n",
       "      <td>time</td>\n",
       "      <td>3515</td>\n",
       "      <td>42.420951</td>\n",
       "    </tr>\n",
       "    <tr>\n",
       "      <th>4</th>\n",
       "      <td>day</td>\n",
       "      <td>2988</td>\n",
       "      <td>36.060825</td>\n",
       "    </tr>\n",
       "    <tr>\n",
       "      <th>...</th>\n",
       "      <td>...</td>\n",
       "      <td>...</td>\n",
       "      <td>...</td>\n",
       "    </tr>\n",
       "    <tr>\n",
       "      <th>20243</th>\n",
       "      <td>chakla</td>\n",
       "      <td>1</td>\n",
       "      <td>0.012069</td>\n",
       "    </tr>\n",
       "    <tr>\n",
       "      <th>20244</th>\n",
       "      <td>gourd</td>\n",
       "      <td>1</td>\n",
       "      <td>0.012069</td>\n",
       "    </tr>\n",
       "    <tr>\n",
       "      <th>20245</th>\n",
       "      <td>mummification</td>\n",
       "      <td>1</td>\n",
       "      <td>0.012069</td>\n",
       "    </tr>\n",
       "    <tr>\n",
       "      <th>20246</th>\n",
       "      <td>radiocarbon</td>\n",
       "      <td>1</td>\n",
       "      <td>0.012069</td>\n",
       "    </tr>\n",
       "    <tr>\n",
       "      <th>20247</th>\n",
       "      <td>indemnification</td>\n",
       "      <td>1</td>\n",
       "      <td>0.012069</td>\n",
       "    </tr>\n",
       "  </tbody>\n",
       "</table>\n",
       "<p>20248 rows × 3 columns</p>\n",
       "</div>"
      ],
      "text/plain": [
       "                  word  doc_freq  doc_percentage\n",
       "0               people      4294       51.822351\n",
       "1                 year      4227       51.013758\n",
       "2              country      3658       44.146754\n",
       "3                 time      3515       42.420951\n",
       "4                  day      2988       36.060825\n",
       "...                ...       ...             ...\n",
       "20243           chakla         1        0.012069\n",
       "20244            gourd         1        0.012069\n",
       "20245    mummification         1        0.012069\n",
       "20246      radiocarbon         1        0.012069\n",
       "20247  indemnification         1        0.012069\n",
       "\n",
       "[20248 rows x 3 columns]"
      ]
     },
     "execution_count": 67,
     "metadata": {},
     "output_type": "execute_result"
    }
   ],
   "source": [
    "total_docs = len(texts)\n",
    "doc_freq_df = pd.DataFrame(doc_freq.most_common(), columns=['word', 'doc_freq'])\n",
    "doc_freq_df['doc_percentage'] = doc_freq_df['doc_freq'] / total_docs * 100\n",
    "doc_freq_df"
   ]
  },
  {
   "cell_type": "markdown",
   "metadata": {},
   "source": [
    "#### Merge the frequency and doc frequency dataframes together \n",
    "#### And output to csv"
   ]
  },
  {
   "cell_type": "code",
   "execution_count": 68,
   "metadata": {},
   "outputs": [],
   "source": [
    "df_merged = pd.merge(left=freq_df, right=doc_freq_df, how='left', left_on=['word'],\n",
    "         right_on = ['word'])\n",
    "\n",
    "df_merged.to_csv(channel+'_'+part_of_speech+'_frequency.csv', encoding='utf8', index=False)"
   ]
  }
 ],
 "metadata": {
  "kernelspec": {
   "display_name": "Python 3",
   "language": "python",
   "name": "python3"
  },
  "language_info": {
   "codemirror_mode": {
    "name": "ipython",
    "version": 3
   },
   "file_extension": ".py",
   "mimetype": "text/x-python",
   "name": "python",
   "nbconvert_exporter": "python",
   "pygments_lexer": "ipython3",
   "version": "3.8.5"
  }
 },
 "nbformat": 4,
 "nbformat_minor": 4
}
